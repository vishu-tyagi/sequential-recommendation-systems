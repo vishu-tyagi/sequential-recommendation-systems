{
  "cells": [
    {
      "cell_type": "code",
      "execution_count": 1,
      "metadata": {
        "id": "pfOzpdBdOIKK"
      },
      "outputs": [],
      "source": [
        "import os\n",
        "from pathlib import Path\n",
        "\n",
        "os.chdir('/content/drive/MyDrive/hnm')\n",
        "DATA_PATH = Path.cwd() / 'data'\n",
        "RAW = DATA_PATH / 'raw'\n",
        "PROCESSED = DATA_PATH / 'processed'\n",
        "SUBMISSION = DATA_PATH / 'submission'\n",
        "\n",
        "import gzip\n",
        "from collections import defaultdict\n",
        "from datetime import datetime\n",
        "import copy\n",
        "import time\n",
        "import datetime\n",
        "import json\n",
        "import numpy as np\n",
        "import pandas as pd\n",
        "\n",
        "from tqdm import tqdm"
      ]
    },
    {
      "cell_type": "code",
      "source": [
        "transactions = pd.read_csv(RAW / 'transactions_train.csv', parse_dates=['t_dat'])\n",
        "transactions['unix_t_dat'] = transactions.t_dat.view(np.int64) // 10**9\n",
        "transactions = transactions.reset_index()"
      ],
      "metadata": {
        "id": "dgjpNt91AZPN"
      },
      "execution_count": 2,
      "outputs": []
    },
    {
      "cell_type": "code",
      "source": [
        "transactions.head(2)"
      ],
      "metadata": {
        "colab": {
          "base_uri": "https://localhost:8080/",
          "height": 112
        },
        "id": "kifGGxinGiH2",
        "outputId": "766ede02-cf19-4884-c393-1d8383058cc0"
      },
      "execution_count": 3,
      "outputs": [
        {
          "output_type": "execute_result",
          "data": {
            "text/plain": [
              "   index      t_dat                                        customer_id  \\\n",
              "0      0 2018-09-20  000058a12d5b43e67d225668fa1f8d618c13dc232df0ca...   \n",
              "1      1 2018-09-20  000058a12d5b43e67d225668fa1f8d618c13dc232df0ca...   \n",
              "\n",
              "   article_id     price  sales_channel_id  unix_t_dat  \n",
              "0   663713001  0.050831                 2  1537401600  \n",
              "1   541518023  0.030492                 2  1537401600  "
            ],
            "text/html": [
              "\n",
              "  <div id=\"df-e242dc33-6b75-455d-bbcc-fc5f224940ed\">\n",
              "    <div class=\"colab-df-container\">\n",
              "      <div>\n",
              "<style scoped>\n",
              "    .dataframe tbody tr th:only-of-type {\n",
              "        vertical-align: middle;\n",
              "    }\n",
              "\n",
              "    .dataframe tbody tr th {\n",
              "        vertical-align: top;\n",
              "    }\n",
              "\n",
              "    .dataframe thead th {\n",
              "        text-align: right;\n",
              "    }\n",
              "</style>\n",
              "<table border=\"1\" class=\"dataframe\">\n",
              "  <thead>\n",
              "    <tr style=\"text-align: right;\">\n",
              "      <th></th>\n",
              "      <th>index</th>\n",
              "      <th>t_dat</th>\n",
              "      <th>customer_id</th>\n",
              "      <th>article_id</th>\n",
              "      <th>price</th>\n",
              "      <th>sales_channel_id</th>\n",
              "      <th>unix_t_dat</th>\n",
              "    </tr>\n",
              "  </thead>\n",
              "  <tbody>\n",
              "    <tr>\n",
              "      <th>0</th>\n",
              "      <td>0</td>\n",
              "      <td>2018-09-20</td>\n",
              "      <td>000058a12d5b43e67d225668fa1f8d618c13dc232df0ca...</td>\n",
              "      <td>663713001</td>\n",
              "      <td>0.050831</td>\n",
              "      <td>2</td>\n",
              "      <td>1537401600</td>\n",
              "    </tr>\n",
              "    <tr>\n",
              "      <th>1</th>\n",
              "      <td>1</td>\n",
              "      <td>2018-09-20</td>\n",
              "      <td>000058a12d5b43e67d225668fa1f8d618c13dc232df0ca...</td>\n",
              "      <td>541518023</td>\n",
              "      <td>0.030492</td>\n",
              "      <td>2</td>\n",
              "      <td>1537401600</td>\n",
              "    </tr>\n",
              "  </tbody>\n",
              "</table>\n",
              "</div>\n",
              "      <button class=\"colab-df-convert\" onclick=\"convertToInteractive('df-e242dc33-6b75-455d-bbcc-fc5f224940ed')\"\n",
              "              title=\"Convert this dataframe to an interactive table.\"\n",
              "              style=\"display:none;\">\n",
              "        \n",
              "  <svg xmlns=\"http://www.w3.org/2000/svg\" height=\"24px\"viewBox=\"0 0 24 24\"\n",
              "       width=\"24px\">\n",
              "    <path d=\"M0 0h24v24H0V0z\" fill=\"none\"/>\n",
              "    <path d=\"M18.56 5.44l.94 2.06.94-2.06 2.06-.94-2.06-.94-.94-2.06-.94 2.06-2.06.94zm-11 1L8.5 8.5l.94-2.06 2.06-.94-2.06-.94L8.5 2.5l-.94 2.06-2.06.94zm10 10l.94 2.06.94-2.06 2.06-.94-2.06-.94-.94-2.06-.94 2.06-2.06.94z\"/><path d=\"M17.41 7.96l-1.37-1.37c-.4-.4-.92-.59-1.43-.59-.52 0-1.04.2-1.43.59L10.3 9.45l-7.72 7.72c-.78.78-.78 2.05 0 2.83L4 21.41c.39.39.9.59 1.41.59.51 0 1.02-.2 1.41-.59l7.78-7.78 2.81-2.81c.8-.78.8-2.07 0-2.86zM5.41 20L4 18.59l7.72-7.72 1.47 1.35L5.41 20z\"/>\n",
              "  </svg>\n",
              "      </button>\n",
              "      \n",
              "  <style>\n",
              "    .colab-df-container {\n",
              "      display:flex;\n",
              "      flex-wrap:wrap;\n",
              "      gap: 12px;\n",
              "    }\n",
              "\n",
              "    .colab-df-convert {\n",
              "      background-color: #E8F0FE;\n",
              "      border: none;\n",
              "      border-radius: 50%;\n",
              "      cursor: pointer;\n",
              "      display: none;\n",
              "      fill: #1967D2;\n",
              "      height: 32px;\n",
              "      padding: 0 0 0 0;\n",
              "      width: 32px;\n",
              "    }\n",
              "\n",
              "    .colab-df-convert:hover {\n",
              "      background-color: #E2EBFA;\n",
              "      box-shadow: 0px 1px 2px rgba(60, 64, 67, 0.3), 0px 1px 3px 1px rgba(60, 64, 67, 0.15);\n",
              "      fill: #174EA6;\n",
              "    }\n",
              "\n",
              "    [theme=dark] .colab-df-convert {\n",
              "      background-color: #3B4455;\n",
              "      fill: #D2E3FC;\n",
              "    }\n",
              "\n",
              "    [theme=dark] .colab-df-convert:hover {\n",
              "      background-color: #434B5C;\n",
              "      box-shadow: 0px 1px 3px 1px rgba(0, 0, 0, 0.15);\n",
              "      filter: drop-shadow(0px 1px 2px rgba(0, 0, 0, 0.3));\n",
              "      fill: #FFFFFF;\n",
              "    }\n",
              "  </style>\n",
              "\n",
              "      <script>\n",
              "        const buttonEl =\n",
              "          document.querySelector('#df-e242dc33-6b75-455d-bbcc-fc5f224940ed button.colab-df-convert');\n",
              "        buttonEl.style.display =\n",
              "          google.colab.kernel.accessAllowed ? 'block' : 'none';\n",
              "\n",
              "        async function convertToInteractive(key) {\n",
              "          const element = document.querySelector('#df-e242dc33-6b75-455d-bbcc-fc5f224940ed');\n",
              "          const dataTable =\n",
              "            await google.colab.kernel.invokeFunction('convertToInteractive',\n",
              "                                                     [key], {});\n",
              "          if (!dataTable) return;\n",
              "\n",
              "          const docLinkHtml = 'Like what you see? Visit the ' +\n",
              "            '<a target=\"_blank\" href=https://colab.research.google.com/notebooks/data_table.ipynb>data table notebook</a>'\n",
              "            + ' to learn more about interactive tables.';\n",
              "          element.innerHTML = '';\n",
              "          dataTable['output_type'] = 'display_data';\n",
              "          await google.colab.output.renderOutput(dataTable, element);\n",
              "          const docLink = document.createElement('div');\n",
              "          docLink.innerHTML = docLinkHtml;\n",
              "          element.appendChild(docLink);\n",
              "        }\n",
              "      </script>\n",
              "    </div>\n",
              "  </div>\n",
              "  "
            ]
          },
          "metadata": {},
          "execution_count": 3
        }
      ]
    },
    {
      "cell_type": "code",
      "source": [
        "print(f'No. of transactions: {transactions.shape[0]:,}')\n",
        "print(f'No. of users: {transactions.customer_id.nunique():,}')\n",
        "print(f'No. of articles: {transactions.article_id.nunique():,}')"
      ],
      "metadata": {
        "colab": {
          "base_uri": "https://localhost:8080/"
        },
        "id": "XgmGtIk3F6pP",
        "outputId": "3a1b25e7-fb3d-46f2-9357-3aa91ef6dc1c"
      },
      "execution_count": 4,
      "outputs": [
        {
          "output_type": "stream",
          "name": "stdout",
          "text": [
            "No. of transactions: 31,788,324\n",
            "No. of users: 1,362,281\n",
            "No. of articles: 104,547\n"
          ]
        }
      ]
    },
    {
      "cell_type": "code",
      "source": [
        "while(1):\n",
        "  if transactions['article_id'].value_counts().values[-1] < 10:\n",
        "    leastReviewedProducts = []\n",
        "    counts = transactions['article_id'].value_counts()\n",
        "\n",
        "    for val in list(transactions['article_id'].unique()):\n",
        "      if counts[val] < 25:\n",
        "        leastReviewedProducts.append(val)\n",
        "\n",
        "    transactions = transactions[~(transactions['article_id'].isin(leastReviewedProducts))]\n",
        "    print('Removed articles\\t\\t\\t Remaining number of transactions: {:,}'.format(len(transactions)))\n",
        "\n",
        "  elif transactions['customer_id'].value_counts().values[-1] < 10:\n",
        "    leastReviewsBy = []\n",
        "    counts = transactions['customer_id'].value_counts()\n",
        "\n",
        "    for val in list(transactions['customer_id'].unique()):\n",
        "      if counts[val] < 25:\n",
        "        leastReviewsBy.append(val)\n",
        "\n",
        "    transactions = transactions[~(transactions['customer_id'].isin(leastReviewsBy))]\n",
        "    print('Removed customers\\t\\t\\t Remaining number of transactions: {:,}'.format(len(transactions)))\n",
        "\n",
        "  else:\n",
        "    print('\\n\\n----')\n",
        "    print('Obtained 25-core subset')\n",
        "    break"
      ],
      "metadata": {
        "colab": {
          "base_uri": "https://localhost:8080/"
        },
        "id": "hqxfKZsuAWNh",
        "outputId": "d5b64137-ddf1-46e1-f13b-54fb873d861f"
      },
      "execution_count": 5,
      "outputs": [
        {
          "output_type": "stream",
          "name": "stdout",
          "text": [
            "Removed articles\t\t\t Remaining number of transactions: 31,473,449\n",
            "Removed customers\t\t\t Remaining number of transactions: 23,962,677\n",
            "Removed articles\t\t\t Remaining number of transactions: 23,856,203\n",
            "\n",
            "\n",
            "----\n",
            "Obtained 25-core subset\n"
          ]
        }
      ]
    },
    {
      "cell_type": "code",
      "source": [
        "print(f'After taking 25-core subset:\\n\\n')\n",
        "print(f'No. of transactions: {transactions.shape[0]:,}. Decreased by {100*(31788324 - transactions.shape[0])/31788324:.2f}%')\n",
        "print(f'No. of users: {transactions.customer_id.nunique():,}. Decreased by {100*(1362281 - transactions.customer_id.nunique())/1362281:.2f}%')\n",
        "print(f'No. of articles: {transactions.article_id.nunique():,}. Decreased by {100*(104547 - transactions.article_id.nunique())/104547:.2f}%')\n"
      ],
      "metadata": {
        "colab": {
          "base_uri": "https://localhost:8080/"
        },
        "id": "QgcPQ03jMFeP",
        "outputId": "f3ee9511-3d35-4da5-f2be-31dbedaee2cd"
      },
      "execution_count": 6,
      "outputs": [
        {
          "output_type": "stream",
          "name": "stdout",
          "text": [
            "After taking 25-core subset:\n",
            "\n",
            "\n",
            "No. of transactions: 23,856,203. Decreased by 24.95%\n",
            "No. of users: 365,193. Decreased by 73.19%\n",
            "No. of articles: 63,768. Decreased by 39.01%\n"
          ]
        }
      ]
    },
    {
      "cell_type": "code",
      "source": [
        "transactions.customer_id.value_counts().tail(2)"
      ],
      "metadata": {
        "colab": {
          "base_uri": "https://localhost:8080/"
        },
        "id": "_rn_YemxCTUa",
        "outputId": "94ac6c12-3068-4aa2-b4d7-5d3707620a9d"
      },
      "execution_count": null,
      "outputs": [
        {
          "output_type": "execute_result",
          "data": {
            "text/plain": [
              "67a3dfe65332c2832212fbac37dbf8ebe92f037a9c56be6ba46475606fc71231    12\n",
              "9b062e1f17b13e4d2ad2ec1fbcf6a3f6c489061eea66d34fa8a56cd9fd5caafd    12\n",
              "Name: customer_id, dtype: int64"
            ]
          },
          "metadata": {},
          "execution_count": 20
        }
      ]
    },
    {
      "cell_type": "code",
      "source": [
        "transactions.article_id.value_counts().tail(2)"
      ],
      "metadata": {
        "colab": {
          "base_uri": "https://localhost:8080/"
        },
        "id": "GzrEFBdaDFwT",
        "outputId": "3eff6414-ea4b-49ac-9813-c66ff62cfee7"
      },
      "execution_count": null,
      "outputs": [
        {
          "output_type": "execute_result",
          "data": {
            "text/plain": [
              "553873033    25\n",
              "652057001    25\n",
              "Name: article_id, dtype: int64"
            ]
          },
          "metadata": {},
          "execution_count": 21
        }
      ]
    },
    {
      "cell_type": "code",
      "source": [
        "countU = transactions.customer_id.value_counts().to_dict()\n",
        "countP = transactions.article_id.value_counts().to_dict()\n"
      ],
      "metadata": {
        "id": "foVTeYOKDz0n"
      },
      "execution_count": null,
      "outputs": []
    },
    {
      "cell_type": "code",
      "source": [
        "usermap = dict()\n",
        "usernum = 1\n",
        "\n",
        "itemmap = dict()\n",
        "itemnum = 1\n",
        "\n",
        "User = dict()\n",
        "\n",
        "for index, one_interaction in tqdm(transactions.iterrows(), total=transactions.shape[0]):\n",
        "    rev = one_interaction['customer_id']\n",
        "    asin = one_interaction['article_id']\n",
        "    time = float(one_interaction['unix_t_dat'])\n",
        "\n",
        "    if countU[rev] < 10 or countP[asin] < 10:\n",
        "        print('Error in taking 10-core')\n",
        "        continue\n",
        "\n",
        "    if rev in usermap:\n",
        "        userid = usermap[rev]\n",
        "    else:\n",
        "        userid = usernum\n",
        "        usermap[rev] = userid\n",
        "        User[userid] = []\n",
        "        usernum += 1\n",
        "\n",
        "    if asin in itemmap:\n",
        "        itemid = itemmap[asin]\n",
        "    else:\n",
        "        itemid = itemnum\n",
        "        itemmap[asin] = itemid\n",
        "        itemnum += 1\n",
        "        \n",
        "    User[userid].append([itemid, time])"
      ],
      "metadata": {
        "id": "7qJEhEZ74PO1",
        "colab": {
          "base_uri": "https://localhost:8080/"
        },
        "outputId": "1fef4ae6-e1bc-4959-8bab-aa7a48e2f837"
      },
      "execution_count": null,
      "outputs": [
        {
          "output_type": "stream",
          "name": "stderr",
          "text": [
            "100%|██████████| 23856203/23856203 [23:55<00:00, 16622.38it/s]\n"
          ]
        }
      ]
    },
    {
      "cell_type": "code",
      "source": [
        "imap_file = str(f'{PROCESSED}')+'/imap2.json'\n",
        "umap_file = str(f'{PROCESSED}')+'/umap2.json'\n",
        "\n",
        "with open(imap_file, 'w') as f:\n",
        "    json.dump(itemmap, f)\n",
        "\n",
        "with open(umap_file, 'w') as f:\n",
        "    json.dump(usermap, f)"
      ],
      "metadata": {
        "id": "JS79OiZD8XmC"
      },
      "execution_count": null,
      "outputs": []
    },
    {
      "cell_type": "code",
      "source": [
        "for userid in User.keys():\n",
        "    # sort User according to time\n",
        "    User[userid].sort(key=lambda x: x[1])"
      ],
      "metadata": {
        "id": "vz-O_z3nRbz0"
      },
      "execution_count": null,
      "outputs": []
    },
    {
      "cell_type": "code",
      "source": [
        "user_train = {}\n",
        "user_valid = {}\n",
        "user_test = {}\n",
        "\n",
        "for user in User:\n",
        "    nfeedback = len(User[user])\n",
        "\n",
        "    if nfeedback < 10:\n",
        "        print('Error in taking 10-core')\n",
        "        break\n",
        "    else:\n",
        "        user_train[user] = User[user][:-2]\n",
        "        user_valid[user] = []\n",
        "        user_valid[user].append(User[user][-2])\n",
        "        user_test[user] = []\n",
        "        user_test[user].append(User[user][-1])"
      ],
      "metadata": {
        "id": "mxm6qNK27Q5y"
      },
      "execution_count": null,
      "outputs": []
    },
    {
      "cell_type": "code",
      "source": [
        "train_file = str(f'{PROCESSED}')+'/train2.txt'\n",
        "valid_file = str(f'{PROCESSED}')+'/valid2.txt'\n",
        "test_file = str(f'{PROCESSED}')+'/test2.txt'\n",
        "\n",
        "data_file = str(f'{PROCESSED}')+'/transactions_train_sequences2.txt'\n",
        "\n",
        "def writetofile(data, dfile):\n",
        "    with open(dfile, 'w') as f:\n",
        "        for u, ilist in sorted(data.items()):\n",
        "            for i, t in ilist:\n",
        "                f.write(str(u) + '\\t'+ str(i) + '\\t' + str(t) + \"\\n\")\n",
        "\n",
        "def writetofile_v2(data, dfile):\n",
        "    with open(dfile, 'w') as f:\n",
        "        for u, ilist in sorted(data.items()):\n",
        "            f.write(str(u))\n",
        "            for i, t in ilist:\n",
        "                f.write(' '+ str(i))\n",
        "            f.write(\"\\n\")\n",
        "\n",
        "writetofile_v2(User, data_file)"
      ],
      "metadata": {
        "id": "FutrM2CU8o58"
      },
      "execution_count": null,
      "outputs": []
    },
    {
      "cell_type": "code",
      "execution_count": null,
      "metadata": {
        "id": "GYS4APDfsKFQ",
        "colab": {
          "base_uri": "https://localhost:8080/"
        },
        "outputId": "400739eb-0357-4d83-fc50-b0de64602f13"
      },
      "outputs": [
        {
          "output_type": "stream",
          "name": "stdout",
          "text": [
            "total user:  365193\n",
            "total instances:  23856203\n",
            "avg length:  65.324918604683\n",
            "total items:  63769\n",
            "density:  0.001024399294401402\n",
            "valid #users:  365193\n",
            "valid instances:  365193\n",
            "test #users:  365193\n",
            "test instances:  365193\n"
          ]
        }
      ],
      "source": [
        "num_instances = sum([len(ilist) for _, ilist in User.items()])\n",
        "print('total user: ', len(User))\n",
        "print('total instances: ', num_instances)\n",
        "print('avg length: ', num_instances / len(User))\n",
        "print('total items: ', itemnum)\n",
        "print('density: ', num_instances / (len(User) * itemnum))\n",
        "print('valid #users: ', len(user_valid))\n",
        "numvalid_instances = sum([len(ilist) for _, ilist in user_valid.items()])\n",
        "print('valid instances: ', numvalid_instances)\n",
        "numtest_instances = sum([len(ilist) for _, ilist in user_test.items()])\n",
        "print('test #users: ', len(user_test))\n",
        "print('test instances: ', numtest_instances)"
      ]
    },
    {
      "cell_type": "code",
      "source": [
        ""
      ],
      "metadata": {
        "id": "wBX8nJFoNNBk"
      },
      "execution_count": null,
      "outputs": []
    }
  ],
  "metadata": {
    "accelerator": "GPU",
    "colab": {
      "machine_shape": "hm",
      "name": "preprocess_stosa3.ipynb",
      "provenance": [],
      "collapsed_sections": []
    },
    "kernelspec": {
      "display_name": "Python 3",
      "name": "python3"
    },
    "language_info": {
      "name": "python"
    }
  },
  "nbformat": 4,
  "nbformat_minor": 0
}