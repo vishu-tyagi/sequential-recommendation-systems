{
  "cells": [
    {
      "cell_type": "code",
      "execution_count": 4,
      "metadata": {
        "id": "pfOzpdBdOIKK"
      },
      "outputs": [],
      "source": [
        "import os\n",
        "from pathlib import Path\n",
        "\n",
        "os.chdir('/content/drive/MyDrive/hnm')\n",
        "DATA_PATH = Path.cwd() / 'data'\n",
        "RAW = DATA_PATH / 'raw'\n",
        "PROCESSED = DATA_PATH / 'processed'\n",
        "SUBMISSION = DATA_PATH / 'submission'\n",
        "\n",
        "os.chdir('/content/drive/MyDrive/hnm/STOSA')\n",
        "\n",
        "import numpy as np\n",
        "import pandas as pd\n",
        "import random\n",
        "import pickle\n",
        "import argparse\n",
        "\n",
        "import torch\n",
        "from torch.utils.data import DataLoader, RandomSampler, SequentialSampler\n",
        "\n",
        "from datasets import SASRecDataset\n",
        "from trainers import FinetuneTrainer, DistSAModelTrainer\n",
        "from models import S3RecModel\n",
        "from seqmodels import SASRecModel, DistSAModel, DistMeanSAModel\n",
        "from utils import EarlyStopping, get_user_seqs, get_item2attribute_json, check_path, set_seed"
      ]
    },
    {
      "cell_type": "code",
      "source": [
        "parser = argparse.ArgumentParser()\n",
        "\n",
        "parser.add_argument('--data_dir', default=str(f'{PROCESSED}/'), type=str)\n",
        "parser.add_argument('--output_dir', default=str(f'{SUBMISSION}/'), type=str)\n",
        "parser.add_argument('--data_name', default='transactions_train_sequences', type=str)\n",
        "parser.add_argument('--do_eval', action='store_true')\n",
        "parser.add_argument('--ckp', default=10, type=int, help=\"pretrain epochs 10, 20, 30...\")\n",
        "\n",
        "# model args\n",
        "parser.add_argument(\"--model_name\", default='DistSAModel', type=str)\n",
        "parser.add_argument(\"--hidden_size\", type=int, default=64, help=\"hidden size of transformer model\")\n",
        "parser.add_argument(\"--num_hidden_layers\", type=int, default=1, help=\"number of layers\")\n",
        "parser.add_argument('--num_attention_heads', default=4, type=int)\n",
        "parser.add_argument('--hidden_act', default=\"gelu\", type=str) # gelu relu\n",
        "parser.add_argument(\"--attention_probs_dropout_prob\", type=float, default=0.0, help=\"attention dropout p\")\n",
        "parser.add_argument(\"--hidden_dropout_prob\", type=float, default=0.3, help=\"hidden dropout p\")\n",
        "parser.add_argument(\"--initializer_range\", type=float, default=0.02)\n",
        "parser.add_argument('--max_seq_length', default=100, type=int)\n",
        "parser.add_argument('--distance_metric', default='wasserstein', type=str)\n",
        "parser.add_argument('--pvn_weight', default=0.005, type=float)\n",
        "parser.add_argument('--kernel_param', default=1.0, type=float)\n",
        "\n",
        "# train args\n",
        "parser.add_argument(\"--lr\", type=float, default=0.001, help=\"learning rate of adam\")\n",
        "parser.add_argument(\"--batch_size\", type=int, default=1024, help=\"number of batch_size\")\n",
        "parser.add_argument(\"--epochs\", type=int, default=20, help=\"number of epochs\")\n",
        "parser.add_argument(\"--no_cuda\", action=\"store_true\")\n",
        "parser.add_argument(\"--log_freq\", type=int, default=1, help=\"per epoch print res\")\n",
        "parser.add_argument(\"--seed\", default=42, type=int)\n",
        "\n",
        "parser.add_argument(\"--weight_decay\", type=float, default=0.0, help=\"weight_decay of adam\")\n",
        "parser.add_argument(\"--adam_beta1\", type=float, default=0.9, help=\"adam first beta value\")\n",
        "parser.add_argument(\"--adam_beta2\", type=float, default=0.999, help=\"adam second beta value\")\n",
        "parser.add_argument(\"--gpu_id\", type=str, default=\"0\", help=\"gpu_id\")\n",
        "\n",
        "parser.add_argument('-f')\n",
        "args = parser.parse_args() \n",
        "\n",
        "set_seed(args.seed)\n",
        "check_path(args.output_dir)\n",
        "\n",
        "os.environ[\"CUDA_VISIBLE_DEVICES\"] = args.gpu_id\n",
        "args.cuda_condition = torch.cuda.is_available() and not args.no_cuda\n",
        "\n",
        "args.data_file = args.data_dir + args.data_name + '.txt'\n",
        "#item2attribute_file = args.data_dir + args.data_name + '_item2attributes.json'\n",
        "\n",
        "user_seq, max_item, valid_rating_matrix, test_rating_matrix, num_users = get_user_seqs(args.data_file)"
      ],
      "metadata": {
        "colab": {
          "base_uri": "https://localhost:8080/"
        },
        "id": "KX20aBZSN_7p",
        "outputId": "fb063899-65db-431d-9e7e-8df3022113e3"
      },
      "execution_count": 5,
      "outputs": [
        {
          "output_type": "stream",
          "name": "stderr",
          "text": [
            "100%|██████████| 674841/674841 [25:55<00:00, 433.93it/s]\n"
          ]
        }
      ]
    },
    {
      "cell_type": "code",
      "source": [
        "#item2attribute, attribute_size = get_item2attribute_json(item2attribute_file)\n",
        "\n",
        "args.item_size = max_item + 2\n",
        "args.num_users = num_users\n",
        "args.mask_id = max_item + 1\n",
        "#args.attribute_size = attribute_size + 1\n",
        "\n",
        "# save model args\n",
        "args_str = f'{args.model_name}-{args.data_name}-{args.hidden_size}-{args.num_hidden_layers}-{args.num_attention_heads}-{args.hidden_act}-{args.attention_probs_dropout_prob}-{args.hidden_dropout_prob}-{args.max_seq_length}-{args.lr}-{args.weight_decay}-{args.ckp}-{args.kernel_param}-{args.pvn_weight}'\n",
        "args.log_file = os.path.join(args.output_dir, args_str + '.txt')\n",
        "print(str(args))\n",
        "with open(args.log_file, 'a') as f:\n",
        "    f.write(str(args) + '\\n')\n",
        "\n",
        "#args.item2attribute = item2attribute\n",
        "# set item score in train set to `0` in validation\n",
        "args.train_matrix = valid_rating_matrix\n",
        "\n",
        "# save model\n",
        "checkpoint = args_str + '.pt'\n",
        "args.checkpoint_path = os.path.join(args.output_dir, checkpoint)\n",
        "\n",
        "train_dataset = SASRecDataset(args, user_seq, data_type='train')\n",
        "train_sampler = RandomSampler(train_dataset)\n",
        "train_dataloader = DataLoader(train_dataset, sampler=train_sampler, batch_size=args.batch_size)\n",
        "\n",
        "eval_dataset = SASRecDataset(args, user_seq, data_type='valid')\n",
        "eval_sampler = SequentialSampler(eval_dataset)\n",
        "#eval_dataloader = DataLoader(eval_dataset, sampler=eval_sampler, batch_size=200)\n",
        "\n",
        "test_dataset = SASRecDataset(args, user_seq, data_type='test')\n",
        "test_sampler = SequentialSampler(test_dataset)\n",
        "#test_dataloader = DataLoader(test_dataset, sampler=test_sampler, batch_size=200)\n",
        "\n",
        "\n",
        "\n",
        "model = DistSAModel(args=args)\n",
        "eval_dataloader = DataLoader(eval_dataset, sampler=eval_sampler, batch_size=100)\n",
        "test_dataloader = DataLoader(test_dataset, sampler=test_sampler, batch_size=100)\n",
        "trainer = DistSAModelTrainer(model, train_dataloader, eval_dataloader,\n",
        "                            test_dataloader, args)\n"
      ],
      "metadata": {
        "colab": {
          "base_uri": "https://localhost:8080/"
        },
        "id": "vt0w1IrjU-eq",
        "outputId": "a3489002-c0a3-4c3e-9d11-c3a17a9bfea0"
      },
      "execution_count": 6,
      "outputs": [
        {
          "output_type": "stream",
          "name": "stdout",
          "text": [
            "Namespace(adam_beta1=0.9, adam_beta2=0.999, attention_probs_dropout_prob=0.0, batch_size=1024, ckp=10, cuda_condition=True, data_dir='/content/drive/MyDrive/hnm/data/processed/', data_file='/content/drive/MyDrive/hnm/data/processed/transactions_train_sequences.txt', data_name='transactions_train_sequences', distance_metric='wasserstein', do_eval=False, epochs=20, f='/root/.local/share/jupyter/runtime/kernel-19c76005-88f8-4b73-ab73-a1ead421b380.json', gpu_id='0', hidden_act='gelu', hidden_dropout_prob=0.3, hidden_size=64, initializer_range=0.02, item_size=81912, kernel_param=1.0, log_file='/content/drive/MyDrive/hnm/data/submission/DistSAModel-transactions_train_sequences-64-1-4-gelu-0.0-0.3-100-0.001-0.0-10-1.0-0.005.txt', log_freq=1, lr=0.001, mask_id=81911, max_seq_length=100, model_name='DistSAModel', no_cuda=False, num_attention_heads=4, num_hidden_layers=1, num_users=674841, output_dir='/content/drive/MyDrive/hnm/data/submission/', pvn_weight=0.005, seed=42, weight_decay=0.0)\n",
            "Total Parameters: 11272345\n"
          ]
        }
      ]
    },
    {
      "cell_type": "code",
      "source": [
        "if args.do_eval:\n",
        "    trainer.load(args.checkpoint_path)\n",
        "    print(f'Load model from {args.checkpoint_path} for test!')\n",
        "    scores, result_info, _ = trainer.test(0, full_sort=True)\n",
        "\n",
        "else:\n",
        "    #pretrained_path = os.path.join(args.output_dir, f'{args.data_name}-epochs-{args.ckp}.pt')\n",
        "    #try:\n",
        "    #    trainer.load(pretrained_path)\n",
        "    #    print(f'Load Checkpoint From {pretrained_path}!')\n",
        "\n",
        "    #except FileNotFoundError:\n",
        "    #    print(f'{pretrained_path} Not Found! The Model is same as SASRec')\n",
        "    \n",
        "    if args.model_name == 'DistSAModel':\n",
        "        early_stopping = EarlyStopping(args.checkpoint_path, patience=100, verbose=True)\n",
        "    else:\n",
        "        early_stopping = EarlyStopping(args.checkpoint_path, patience=50, verbose=True)\n",
        "    for epoch in range(args.epochs):\n",
        "        trainer.train(epoch)\n",
        "        # evaluate on MRR\n",
        "        scores, _, _ = trainer.valid(epoch, full_sort=True)\n",
        "        early_stopping(np.array(scores[-1:]), trainer.model)\n",
        "        if early_stopping.early_stop:\n",
        "            print(\"Early stopping\")\n",
        "            break\n",
        "\n",
        "    print('---------------Change to test_rating_matrix!-------------------')\n",
        "    # load the best model\n",
        "    trainer.model.load_state_dict(torch.load(args.checkpoint_path))\n",
        "    valid_scores, _, _ = trainer.valid('best', full_sort=True)\n",
        "    trainer.args.train_matrix = test_rating_matrix\n",
        "    scores, result_info, _ = trainer.test('best', full_sort=True)\n",
        "\n",
        "print(args_str)\n",
        "#print(result_info)\n",
        "with open(args.log_file, 'a') as f:\n",
        "    f.write(args_str + '\\n')\n",
        "    f.write(result_info + '\\n')"
      ],
      "metadata": {
        "colab": {
          "base_uri": "https://localhost:8080/"
        },
        "id": "kmwqpRzTpBBx",
        "outputId": "51ff5e87-2d82-480c-8405-4f353caf9cdb"
      },
      "execution_count": 7,
      "outputs": [
        {
          "output_type": "stream",
          "name": "stdout",
          "text": [
            "{'epoch': 0, 'rec_avg_loss': '0.4119', 'rec_cur_loss': '0.2795', 'rec_avg_auc': '0.878175', 'rec_avg_pvn_loss': '0.107024'}\n",
            "{'Epoch': 0, 'HIT@1': '0.00160927', 'NDCG@1': '0.00160927', 'HIT@5': '0.00574802', 'NDCG@5': '0.00366350', 'HIT@10': '0.00997568', 'NDCG@10': '0.00501878', 'HIT@15': '0.01366396', 'NDCG@15': '0.00599070', 'HIT@20': '0.01696844', 'NDCG@20': '0.00677075', 'HIT@40': '0.02788361', 'NDCG@40': '0.00898670', 'MRR': '0.00438341'}\n",
            "Validation score increased.  Saving model ...\n",
            "{'epoch': 1, 'rec_avg_loss': '0.2408', 'rec_cur_loss': '0.2114', 'rec_avg_auc': '0.929624', 'rec_avg_pvn_loss': '0.052112'}\n",
            "{'Epoch': 1, 'HIT@1': '0.00206123', 'NDCG@1': '0.00206123', 'HIT@5': '0.00701499', 'NDCG@5': '0.00454306', 'HIT@10': '0.01220436', 'NDCG@10': '0.00619848', 'HIT@15': '0.01670023', 'NDCG@15': '0.00738678', 'HIT@20': '0.02018105', 'NDCG@20': '0.00820721', 'HIT@40': '0.03326710', 'NDCG@40': '0.01086511', 'MRR': '0.00540252'}\n",
            "Validation score increased.  Saving model ...\n",
            "{'epoch': 2, 'rec_avg_loss': '0.1940', 'rec_cur_loss': '0.1840', 'rec_avg_auc': '0.940201', 'rec_avg_pvn_loss': '0.033745'}\n",
            "{'Epoch': 2, 'HIT@1': '0.00239167', 'NDCG@1': '0.00239167', 'HIT@5': '0.00780480', 'NDCG@5': '0.00506675', 'HIT@10': '0.01363284', 'NDCG@10': '0.00693374', 'HIT@15': '0.01820577', 'NDCG@15': '0.00814059', 'HIT@20': '0.02242306', 'NDCG@20': '0.00913546', 'HIT@40': '0.03683534', 'NDCG@40': '0.01206378', 'MRR': '0.00602573'}\n",
            "Validation score increased.  Saving model ...\n",
            "{'epoch': 3, 'rec_avg_loss': '0.1684', 'rec_cur_loss': '0.1809', 'rec_avg_auc': '0.945509', 'rec_avg_pvn_loss': '0.023508'}\n",
            "{'Epoch': 3, 'HIT@1': '0.00281992', 'NDCG@1': '0.00281992', 'HIT@5': '0.00935480', 'NDCG@5': '0.00607301', 'HIT@10': '0.01602007', 'NDCG@10': '0.00821006', 'HIT@15': '0.02159620', 'NDCG@15': '0.00968190', 'HIT@20': '0.02647587', 'NDCG@20': '0.01083254', 'HIT@40': '0.04281898', 'NDCG@40': '0.01415112', 'MRR': '0.00714488'}\n",
            "Validation score increased.  Saving model ...\n",
            "{'epoch': 4, 'rec_avg_loss': '0.1513', 'rec_cur_loss': '0.1439', 'rec_avg_auc': '0.949250', 'rec_avg_pvn_loss': '0.017141'}\n",
            "{'Epoch': 4, 'HIT@1': '0.00327929', 'NDCG@1': '0.00327929', 'HIT@5': '0.01099222', 'NDCG@5': '0.00713605', 'HIT@10': '0.01865180', 'NDCG@10': '0.00959013', 'HIT@15': '0.02492735', 'NDCG@15': '0.01124645', 'HIT@20': '0.03043680', 'NDCG@20': '0.01254720', 'HIT@40': '0.04905304', 'NDCG@40': '0.01633240', 'MRR': '0.00831866'}\n",
            "Validation score increased.  Saving model ...\n",
            "{'epoch': 5, 'rec_avg_loss': '0.1388', 'rec_cur_loss': '0.1208', 'rec_avg_auc': '0.951915', 'rec_avg_pvn_loss': '0.012726'}\n",
            "{'Epoch': 5, 'HIT@1': '0.00340673', 'NDCG@1': '0.00340673', 'HIT@5': '0.01200875', 'NDCG@5': '0.00770824', 'HIT@10': '0.02002546', 'NDCG@10': '0.01027332', 'HIT@15': '0.02735607', 'NDCG@15': '0.01220936', 'HIT@20': '0.03365089', 'NDCG@20': '0.01369424', 'HIT@40': '0.05400976', 'NDCG@40': '0.01783567', 'MRR': '0.00897605'}\n",
            "Validation score increased.  Saving model ...\n",
            "{'epoch': 6, 'rec_avg_loss': '0.1296', 'rec_cur_loss': '0.1427', 'rec_avg_auc': '0.953881', 'rec_avg_pvn_loss': '0.009546'}\n",
            "{'Epoch': 6, 'HIT@1': '0.00400094', 'NDCG@1': '0.00400094', 'HIT@5': '0.01314976', 'NDCG@5': '0.00853898', 'HIT@10': '0.02234452', 'NDCG@10': '0.01148109', 'HIT@15': '0.03005301', 'NDCG@15': '0.01351535', 'HIT@20': '0.03693907', 'NDCG@20': '0.01514012', 'HIT@40': '0.05904206', 'NDCG@40': '0.01964274', 'MRR': '0.00998885'}\n",
            "Validation score increased.  Saving model ...\n",
            "{'epoch': 7, 'rec_avg_loss': '0.1225', 'rec_cur_loss': '0.1197', 'rec_avg_auc': '0.955597', 'rec_avg_pvn_loss': '0.007524'}\n",
            "{'Epoch': 7, 'HIT@1': '0.00412097', 'NDCG@1': '0.00412097', 'HIT@5': '0.01432189', 'NDCG@5': '0.00919157', 'HIT@10': '0.02397898', 'NDCG@10': '0.01227959', 'HIT@15': '0.03205348', 'NDCG@15': '0.01441051', 'HIT@20': '0.03934260', 'NDCG@20': '0.01613123', 'HIT@40': '0.06253918', 'NDCG@40': '0.02085181', 'MRR': '0.01061613'}\n",
            "Validation score increased.  Saving model ...\n",
            "{'epoch': 8, 'rec_avg_loss': '0.1174', 'rec_cur_loss': '0.1370', 'rec_avg_auc': '0.956864', 'rec_avg_pvn_loss': '0.006164'}\n",
            "{'Epoch': 8, 'HIT@1': '0.00451366', 'NDCG@1': '0.00451366', 'HIT@5': '0.01573556', 'NDCG@5': '0.01009042', 'HIT@10': '0.02595574', 'NDCG@10': '0.01336861', 'HIT@15': '0.03467632', 'NDCG@15': '0.01566878', 'HIT@20': '0.04217438', 'NDCG@20': '0.01743818', 'HIT@40': '0.06607927', 'NDCG@40': '0.02230411', 'MRR': '0.01151614'}\n",
            "Validation score increased.  Saving model ...\n",
            "{'epoch': 9, 'rec_avg_loss': '0.1133', 'rec_cur_loss': '0.0908', 'rec_avg_auc': '0.957916', 'rec_avg_pvn_loss': '0.005166'}\n",
            "{'Epoch': 9, 'HIT@1': '0.00467814', 'NDCG@1': '0.00467814', 'HIT@5': '0.01676839', 'NDCG@5': '0.01070109', 'HIT@10': '0.02751167', 'NDCG@10': '0.01414551', 'HIT@15': '0.03632411', 'NDCG@15': '0.01647085', 'HIT@20': '0.04448752', 'NDCG@20': '0.01839747', 'HIT@40': '0.06931114', 'NDCG@40': '0.02344862', 'MRR': '0.01213026'}\n",
            "Validation score increased.  Saving model ...\n",
            "{'epoch': 10, 'rec_avg_loss': '0.1100', 'rec_cur_loss': '0.0921', 'rec_avg_auc': '0.958721', 'rec_avg_pvn_loss': '0.004400'}\n",
            "{'Epoch': 10, 'HIT@1': '0.00521753', 'NDCG@1': '0.00521753', 'HIT@5': '0.01783679', 'NDCG@5': '0.01152496', 'HIT@10': '0.02903202', 'NDCG@10': '0.01511485', 'HIT@15': '0.03830384', 'NDCG@15': '0.01756504', 'HIT@20': '0.04645983', 'NDCG@20': '0.01949020', 'HIT@40': '0.07197992', 'NDCG@40': '0.02468168', 'MRR': '0.01299486'}\n",
            "Validation score increased.  Saving model ...\n",
            "{'epoch': 11, 'rec_avg_loss': '0.1072', 'rec_cur_loss': '0.0758', 'rec_avg_auc': '0.959446', 'rec_avg_pvn_loss': '0.003820'}\n",
            "{'Epoch': 11, 'HIT@1': '0.00548277', 'NDCG@1': '0.00548277', 'HIT@5': '0.01865032', 'NDCG@5': '0.01206915', 'HIT@10': '0.03056424', 'NDCG@10': '0.01588853', 'HIT@15': '0.04027171', 'NDCG@15': '0.01845119', 'HIT@20': '0.04877742', 'NDCG@20': '0.02045897', 'HIT@40': '0.07510362', 'NDCG@40': '0.02581728', 'MRR': '0.01362421'}\n",
            "Validation score increased.  Saving model ...\n",
            "{'epoch': 12, 'rec_avg_loss': '0.1050', 'rec_cur_loss': '0.0939', 'rec_avg_auc': '0.960054', 'rec_avg_pvn_loss': '0.003347'}\n",
            "{'Epoch': 12, 'HIT@1': '0.00583693', 'NDCG@1': '0.00583693', 'HIT@5': '0.01974687', 'NDCG@5': '0.01281550', 'HIT@10': '0.03181638', 'NDCG@10': '0.01667963', 'HIT@15': '0.04180244', 'NDCG@15': '0.01931605', 'HIT@20': '0.05040150', 'NDCG@20': '0.02134547', 'HIT@40': '0.07699295', 'NDCG@40': '0.02675810', 'MRR': '0.01430686'}\n",
            "Validation score increased.  Saving model ...\n",
            "{'epoch': 13, 'rec_avg_loss': '0.1029', 'rec_cur_loss': '0.0761', 'rec_avg_auc': '0.960600', 'rec_avg_pvn_loss': '0.002978'}\n",
            "{'Epoch': 13, 'HIT@1': '0.00581026', 'NDCG@1': '0.00581026', 'HIT@5': '0.01923861', 'NDCG@5': '0.01251015', 'HIT@10': '0.03149186', 'NDCG@10': '0.01644037', 'HIT@15': '0.04142754', 'NDCG@15': '0.01906324', 'HIT@20': '0.04981173', 'NDCG@20': '0.02104109', 'HIT@40': '0.07711002', 'NDCG@40': '0.02659442', 'MRR': '0.01410679'}\n",
            "EarlyStopping counter: 1 out of 100\n",
            "{'epoch': 14, 'rec_avg_loss': '0.1014', 'rec_cur_loss': '0.1302', 'rec_avg_auc': '0.961013', 'rec_avg_pvn_loss': '0.002665'}\n",
            "{'Epoch': 14, 'HIT@1': '0.00665194', 'NDCG@1': '0.00665194', 'HIT@5': '0.02103903', 'NDCG@5': '0.01387728', 'HIT@10': '0.03380055', 'NDCG@10': '0.01797076', 'HIT@15': '0.04408594', 'NDCG@15': '0.02068662', 'HIT@20': '0.05273983', 'NDCG@20': '0.02272969', 'HIT@40': '0.08084719', 'NDCG@40': '0.02845365', 'MRR': '0.01547141'}\n",
            "Validation score increased.  Saving model ...\n",
            "{'epoch': 15, 'rec_avg_loss': '0.0998', 'rec_cur_loss': '0.1102', 'rec_avg_auc': '0.961480', 'rec_avg_pvn_loss': '0.002410'}\n",
            "{'Epoch': 15, 'HIT@1': '0.00652746', 'NDCG@1': '0.00652746', 'HIT@5': '0.02163176', 'NDCG@5': '0.01409732', 'HIT@10': '0.03455629', 'NDCG@10': '0.01823885', 'HIT@15': '0.04484612', 'NDCG@15': '0.02095831', 'HIT@20': '0.05378156', 'NDCG@20': '0.02306651', 'HIT@40': '0.08168739', 'NDCG@40': '0.02874722', 'MRR': '0.01559665'}\n",
            "Validation score increased.  Saving model ...\n",
            "{'epoch': 16, 'rec_avg_loss': '0.0984', 'rec_cur_loss': '0.0952', 'rec_avg_auc': '0.961917', 'rec_avg_pvn_loss': '0.002199'}\n",
            "{'Epoch': 16, 'HIT@1': '0.00690978', 'NDCG@1': '0.00690978', 'HIT@5': '0.02300690', 'NDCG@5': '0.01495154', 'HIT@10': '0.03667827', 'NDCG@10': '0.01933761', 'HIT@15': '0.04760529', 'NDCG@15': '0.02222376', 'HIT@20': '0.05682524', 'NDCG@20': '0.02439994', 'HIT@40': '0.08598470', 'NDCG@40': '0.03033660', 'MRR': '0.01649466'}\n",
            "Validation score increased.  Saving model ...\n",
            "{'epoch': 17, 'rec_avg_loss': '0.0975', 'rec_cur_loss': '0.1095', 'rec_avg_auc': '0.962150', 'rec_avg_pvn_loss': '0.002012'}\n",
            "{'Epoch': 17, 'HIT@1': '0.00734099', 'NDCG@1': '0.00734099', 'HIT@5': '0.02345590', 'NDCG@5': '0.01543521', 'HIT@10': '0.03731694', 'NDCG@10': '0.01987229', 'HIT@15': '0.04841437', 'NDCG@15': '0.02280649', 'HIT@20': '0.05754096', 'NDCG@20': '0.02496153', 'HIT@40': '0.08661299', 'NDCG@40': '0.03088003', 'MRR': '0.01700876'}\n",
            "Validation score increased.  Saving model ...\n",
            "{'epoch': 18, 'rec_avg_loss': '0.0963', 'rec_cur_loss': '0.1348', 'rec_avg_auc': '0.962517', 'rec_avg_pvn_loss': '0.001851'}\n",
            "{'Epoch': 18, 'HIT@1': '0.00741804', 'NDCG@1': '0.00741804', 'HIT@5': '0.02405011', 'NDCG@5': '0.01574595', 'HIT@10': '0.03801044', 'NDCG@10': '0.02022256', 'HIT@15': '0.04894783', 'NDCG@15': '0.02311043', 'HIT@20': '0.05813073', 'NDCG@20': '0.02527854', 'HIT@40': '0.08726352', 'NDCG@40': '0.03120860', 'MRR': '0.01723862'}\n",
            "Validation score increased.  Saving model ...\n",
            "{'epoch': 19, 'rec_avg_loss': '0.0954', 'rec_cur_loss': '0.0907', 'rec_avg_auc': '0.962728', 'rec_avg_pvn_loss': '0.001716'}\n",
            "{'Epoch': 19, 'HIT@1': '0.00742101', 'NDCG@1': '0.00742101', 'HIT@5': '0.02385006', 'NDCG@5': '0.01565391', 'HIT@10': '0.03763701', 'NDCG@10': '0.02007667', 'HIT@15': '0.04857144', 'NDCG@15': '0.02296422', 'HIT@20': '0.05788771', 'NDCG@20': '0.02516378', 'HIT@40': '0.08765324', 'NDCG@40': '0.03121913', 'MRR': '0.01718821'}\n",
            "EarlyStopping counter: 1 out of 100\n",
            "---------------Change to test_rating_matrix!-------------------\n",
            "{'Epoch': 'best', 'HIT@1': '0.00741804', 'NDCG@1': '0.00741804', 'HIT@5': '0.02405011', 'NDCG@5': '0.01574595', 'HIT@10': '0.03801044', 'NDCG@10': '0.02022256', 'HIT@15': '0.04894783', 'NDCG@15': '0.02311043', 'HIT@20': '0.05813073', 'NDCG@20': '0.02527854', 'HIT@40': '0.08726352', 'NDCG@40': '0.03120860', 'MRR': '0.01723862'}\n",
            "{'Epoch': 'best', 'HIT@1': '0.00807894', 'NDCG@1': '0.00807894', 'HIT@5': '0.02499848', 'NDCG@5': '0.01655502', 'HIT@10': '0.03902253', 'NDCG@10': '0.02106229', 'HIT@15': '0.05009032', 'NDCG@15': '0.02398678', 'HIT@20': '0.05960812', 'NDCG@20': '0.02623378', 'HIT@40': '0.08864014', 'NDCG@40': '0.03214480', 'MRR': '0.01804902'}\n",
            "DistSAModel-transactions_train_sequences-64-1-4-gelu-0.0-0.3-100-0.001-0.0-10-1.0-0.005\n"
          ]
        }
      ]
    },
    {
      "cell_type": "code",
      "source": [
        "def get_predicted_item_ids(batch):\n",
        "    with torch.no_grad():\n",
        "        i = 0\n",
        "        # 0. batch_data will be sent into the device(GPU or cpu)\n",
        "        batch = tuple(t.to(device) for t in batch)\n",
        "        user_ids, input_ids, target_pos, target_neg, answers = batch\n",
        "        recommend_mean_output, recommend_cov_output, _, _ = trainer.model.finetune(input_ids, user_ids)\n",
        "\n",
        "        recommend_mean_output = recommend_mean_output[:, -1, :]\n",
        "        recommend_cov_output = recommend_cov_output[:, -1, :]\n",
        "        \n",
        "        rating_pred = trainer.dist_predict_full(recommend_mean_output, recommend_cov_output)\n",
        "\n",
        "        rating_pred = rating_pred.cpu().data.numpy().copy()\n",
        "        batch_user_index = user_ids.cpu().numpy()\n",
        "    \n",
        "        rating_pred[trainer.args.train_matrix[batch_user_index].toarray() > 0] = 1e+24\n",
        "        \n",
        "        # reference: https://stackoverflow.com/a/23734295, https://stackoverflow.com/a/20104162\n",
        "        ind = np.argpartition(rating_pred, 40)[:, :40]\n",
        "        \n",
        "        #ind = np.argpartition(rating_pred, -40)[:, -40:]\n",
        "        arr_ind = rating_pred[np.arange(len(rating_pred))[:, None], ind]\n",
        "        \n",
        "        # ascending order\n",
        "        arr_ind_argsort = np.argsort(arr_ind)[np.arange(len(rating_pred)), ::]\n",
        "    \n",
        "        #arr_ind_argsort = np.argsort(arr_ind)[np.arange(len(rating_pred)), ::-1]\n",
        "        batch_pred_list = ind[np.arange(len(rating_pred))[:, None], arr_ind_argsort]\n",
        "\n",
        "    return user_ids, batch_pred_list"
      ],
      "metadata": {
        "id": "ANg125Y2qJWf"
      },
      "execution_count": 9,
      "outputs": []
    },
    {
      "cell_type": "code",
      "source": [
        "from tqdm import tqdm \n",
        "\n",
        "device = torch.device(\"cuda\" if trainer.model.args.cuda_condition else \"cpu\")\n",
        "\n",
        "users_predicted = []\n",
        "users_predictions = []\n",
        "\n",
        "i = 0 \n",
        "for i, batch in tqdm(enumerate(test_dataloader), total=len(test_dataloader)):\n",
        "    user_ids, batch_pred_list = get_predicted_item_ids(batch)\n",
        "\n",
        "    user_ids_list = user_ids.detach().cpu().numpy().tolist()\n",
        "    item_ids_list = np.array(batch_pred_list.tolist()).astype(np.int64).tolist()\n",
        "    \n",
        "    if i == 0:\n",
        "        users_predicted = user_ids_list\n",
        "        users_predictions = item_ids_list\n",
        "    else:\n",
        "        users_predicted += user_ids_list\n",
        "        users_predictions += item_ids_list"
      ],
      "metadata": {
        "id": "uQ3AUVW8qPCB",
        "colab": {
          "base_uri": "https://localhost:8080/"
        },
        "outputId": "f6f51cab-949e-470c-f83d-a4331efbf4a5"
      },
      "execution_count": 63,
      "outputs": [
        {
          "output_type": "stream",
          "name": "stderr",
          "text": [
            "100%|██████████| 6749/6749 [16:08<00:00,  6.97it/s]\n"
          ]
        }
      ]
    },
    {
      "cell_type": "code",
      "source": [
        "import json\n",
        "\n",
        "with open(PROCESSED / 'umap.json') as f:\n",
        "  user_map = json.load(f)\n",
        "\n",
        "with open(PROCESSED / 'imap.json') as f:\n",
        "  item_map = json.load(f)"
      ],
      "metadata": {
        "id": "pX_1uC3KcXOv"
      },
      "execution_count": 56,
      "outputs": []
    },
    {
      "cell_type": "code",
      "source": [
        "user_map_inv = {user_map[elem]:elem for elem in user_map}\n",
        "item_map_inv = {item_map[elem]:elem for elem in item_map}"
      ],
      "metadata": {
        "id": "4YpVWfKbMYmm"
      },
      "execution_count": 57,
      "outputs": []
    },
    {
      "cell_type": "code",
      "source": [
        "d = {}\n",
        "\n",
        "for i in range(len(users_predicted)):\n",
        "    uinv = user_map_inv[users_predicted[i]+1]\n",
        "    pinv = [item_map_inv[elem] for elem in users_predictions[i][0:12]]\n",
        "    pinv = ['0'+elem for elem in pinv]\n",
        "\n",
        "    if uinv in d:\n",
        "        print('Error')\n",
        "        break\n",
        "    \n",
        "    d[uinv] = ' '.join(pinv)"
      ],
      "metadata": {
        "id": "oDFqX1jWMZWE"
      },
      "execution_count": 97,
      "outputs": []
    },
    {
      "cell_type": "code",
      "source": [
        "fname = str(f'{PROCESSED}')+'/stosa1p.json'\n",
        "\n",
        "with open(fname, 'w') as f:\n",
        "    json.dump(d, f)"
      ],
      "metadata": {
        "id": "jo1sPZQCpbF0"
      },
      "execution_count": 98,
      "outputs": []
    },
    {
      "cell_type": "code",
      "source": [
        ""
      ],
      "metadata": {
        "id": "vclnZvbVMZpt"
      },
      "execution_count": null,
      "outputs": []
    }
  ],
  "metadata": {
    "accelerator": "GPU",
    "colab": {
      "machine_shape": "hm",
      "name": "train_stosa.ipynb",
      "provenance": [],
      "collapsed_sections": []
    },
    "kernelspec": {
      "display_name": "Python 3",
      "name": "python3"
    },
    "language_info": {
      "name": "python"
    }
  },
  "nbformat": 4,
  "nbformat_minor": 0
}